{
 "cells": [
  {
   "cell_type": "code",
   "execution_count": null,
   "id": "e38c893f",
   "metadata": {
    "vscode": {
     "languageId": "julia"
    }
   },
   "outputs": [],
   "source": [
    "%pip install -q --force-reinstall airavata-python-sdk[notebook]\n",
    "import airavata_jupyter_magic\n",
    "\n",
    "%authenticate\n",
    "%request_runtime hpc_cpu --file=cybershuttle.yml --walltime=60 --use=NeuroData25VC1:cloud,expanse:shared,anvil:shared\n",
    "%switch_runtime hpc_cpu"
   ]
  },
  {
   "cell_type": "code",
   "execution_count": null,
   "id": "67815d3f",
   "metadata": {},
   "outputs": [],
   "source": [
    "import psutil\n",
    "import time\n",
    "from transformers import AutoTokenizer, AutoModelForSeq2SeqLM, pipeline\n",
    "\n",
    "def run_model(pipeline):\n",
    "    return pipeline(\"What are competitors to Apache Kafka?\")\n",
    "\n",
    "if __name__ == \"__main__\":\n",
    "    model_id = \"lmsys/fastchat-t5-3b-v1.0\"\n",
    "    tokenizer = AutoTokenizer.from_pretrained(model_id, use_fast=False)\n",
    "    model = AutoModelForSeq2SeqLM.from_pretrained(model_id)\n",
    "\n",
    "    text2text_pipeline = pipeline(\"text2text-generation\", model=model, tokenizer=tokenizer, max_length=1000, device=-1)\n",
    "\n",
    "    cpu_before = psutil.cpu_percent(interval=1)\n",
    "    start_time = time.time()\n",
    "\n",
    "    response = run_model(text2text_pipeline)\n",
    "\n",
    "    end_time = time.time()\n",
    "    cpu_after = psutil.cpu_percent(interval=1)\n",
    "\n",
    "    execution_time = end_time - start_time\n",
    "    peak_memory = psutil.virtual_memory().used / (1024 * 1024)  # in MiB\n",
    "\n",
    "    print(f\"Execution Time: {execution_time:.2f}\")\n",
    "    print(f\"Peak Memory Usage: {peak_memory:.2f}\")\n",
    "    print(f\"CPU Usage Before: {cpu_before:.2f}\")\n",
    "    print(f\"CPU Usage After: {cpu_after:.2f}\")\n",
    "    print(f\"Generated Text: {response[0]['generated_text']}\")\n"
   ]
  }
 ],
 "metadata": {
  "kernelspec": {
   "display_name": "Python 3 (ipykernel)",
   "language": "python",
   "name": "python3"
  },
  "language_info": {
   "codemirror_mode": {
    "name": "ipython",
    "version": 3
   },
   "file_extension": ".py",
   "mimetype": "text/x-python",
   "name": "python",
   "nbconvert_exporter": "python",
   "pygments_lexer": "ipython3",
   "version": "3.12.3"
  }
 },
 "nbformat": 4,
 "nbformat_minor": 5
}
